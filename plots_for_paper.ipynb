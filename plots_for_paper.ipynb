{
 "cells": [
  {
   "cell_type": "code",
   "execution_count": null,
   "metadata": {
    "collapsed": true
   },
   "outputs": [],
   "source": [
    "import glob\n",
    "import os\n",
    "data_directory = '/srv/beegfs/scratch/groups/dpnc/atlas/CURTAINS/'\n",
    "def get_data_path(file_name):\n",
    "    return os.path.join(data_directory, file_name)"
   ]
  },
  {
   "cell_type": "code",
   "execution_count": null,
   "outputs": [],
   "source": [
    "cathode_dirs = 'fixed_widths_cathode_features_CATHODE_features_'\n",
    "CATHODE_data = glob.glob(get_data_path(f'{cathode_dirs}*/*.npy'))\n",
    "CATHODE_info = glob.glob(get_data_path(f'{cathode_dirs}*/*.exp'))\n"
   ],
   "metadata": {
    "collapsed": false,
    "pycharm": {
     "name": "#%%\n"
    }
   }
  }
 ],
 "metadata": {
  "kernelspec": {
   "display_name": "Python 3",
   "language": "python",
   "name": "python3"
  },
  "language_info": {
   "codemirror_mode": {
    "name": "ipython",
    "version": 2
   },
   "file_extension": ".py",
   "mimetype": "text/x-python",
   "name": "python",
   "nbconvert_exporter": "python",
   "pygments_lexer": "ipython2",
   "version": "2.7.6"
  }
 },
 "nbformat": 4,
 "nbformat_minor": 0
}