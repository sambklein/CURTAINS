{
 "cells": [
  {
   "cell_type": "code",
   "execution_count": 1,
   "metadata": {},
   "outputs": [],
   "source": [
    "import glob\n",
    "import os\n",
    "import json\n",
    "import numpy as np\n",
    "import torch\n",
    "import pandas as pd\n",
    "\n",
    "import utils.plotting as plot_utils"
   ]
  },
  {
   "cell_type": "code",
   "execution_count": 2,
   "metadata": {},
   "outputs": [],
   "source": [
    "# Set directories for loading data and saving plots\n",
    "from data.data_loaders import load_curtains_pd\n",
    "from data.physics_datasets import preprocess_method\n",
    "data_directory = '/srv/beegfs/scratch/groups/dpnc/atlas/CURTAINS/'\n",
    "# save_directory = '/srv/beegfs/scratch/groups/dpnc/atlas/CURTAINS/images'\n",
    "save_directory = '/home/users/k/kleins/MLproject/CURTAINS/images/test_images_paper/'\n",
    "os.makedirs(save_directory, exist_ok=True)\n",
    "\n",
    "\n",
    "def get_files(directory_wildcard):\n",
    "    \"\"\"\n",
    "    Returns a list of directories under which data can be loaded and a list of dictionaries for each directory in each\n",
    "    file.\n",
    "    \"\"\"\n",
    "    directories = glob.glob(os.path.join(data_directory, f'{directory_wildcard}*'))\n",
    "    info = [glob.glob(os.path.join(dd, '*.json'))[0] for dd in directories]\n",
    "    loaded_info = []\n",
    "    for exp_info in info:\n",
    "        with open(exp_info, \"r\") as file_name:\n",
    "            json_dict = json.load(file_name)\n",
    "        loaded_info += [json.loads(json_dict)]\n",
    "    return directories, loaded_info"
   ]
  },
  {
   "cell_type": "code",
   "execution_count": 3,
   "metadata": {
    "pycharm": {
     "name": "#%%\n"
    }
   },
   "outputs": [],
   "source": [
    "CATHODE_directories, CATHODE_info = get_files('fixed_widths_cathode_features_CATHODE_features_')\n",
    "CURTAINS_directories, CURTAINS_info = get_files('fixed_widths_cathode_features_CATHODE_features_')"
   ]
  },
  {
   "cell_type": "code",
   "execution_count": 12,
   "metadata": {
    "pycharm": {
     "name": "#%%\n"
    }
   },
   "outputs": [],
   "source": [
    "%%capture\n",
    "# Load the data and dope appropriately, load feature type 12 as that encompasses all the others\n",
    "feature_type = 12\n",
    "sm = load_curtains_pd(feature_type=feature_type)\n",
    "sm = sm.sample(frac=1).dropna() \n",
    "ad = load_curtains_pd(sm='WZ_allhad_pT', feature_type=feature_type)\n",
    "ad = ad.sample(frac=1).dropna()"
   ]
  },
  {
   "cell_type": "code",
   "execution_count": 23,
   "metadata": {},
   "outputs": [],
   "source": [
    "feature_keys = {3: ['mj1', 'mj2-mj1', '$\\\\tau_{21}^{j_1}$', '$\\\\tau_{21}^{j_2}$', '$dR_{jj}$'],\n",
    "                10: ['mj1', 'mj2-mj1', '$\\\\tau_{21}^{j_1}$', '$\\\\tau_{21}^{j_2}$', '$dR_{jj}$', '$p_t^{j_1}$', \n",
    "                     '$p_t^{j_2}$', 'mjj'],\n",
    "                11:['mj1', 'mj2-mj1', '$\\\\tau_{21}^{j_1}$', '$\\\\tau_{21}^{j_2}$', '$dR_{jj}$', \n",
    "                    '$p_t^{j_1}$', '$p_t^{j_2}$', 'delEta', 'mjj'], \n",
    "                12: ['mj1', 'mj2', 'mj2-mj1', '$\\\\tau_{21}^{j_1}$', '$\\\\tau_{32}^{j_1}$', '$\\\\tau_{21}^{j_2}$', \n",
    "                     '$\\\\tau_{32}^{j_2}$', '$p_t^{j_1}$', '$p_t^{j_2}$', '$dR_{jj}$', 'delPhi', 'delEta', 'mjj']}"
   ]
  },
  {
   "cell_type": "code",
   "execution_count": 42,
   "metadata": {
    "pycharm": {
     "is_executing": true
    }
   },
   "outputs": [
    {
     "data": {
      "text/plain": [
       "<Figure size 1008x936 with 0 Axes>"
      ]
     },
     "metadata": {},
     "output_type": "display_data"
    }
   ],
   "source": [
    "# Bin the data\n",
    "def mx_data(data, bins):\n",
    "    context_df = data['mjj']\n",
    "    mx = (context_df >= bins[0]) & (context_df < bins[1])\n",
    "    return data.loc[mx], data.loc[~mx]\n",
    "\n",
    "# Plot a feature spread\n",
    "n_sample_for_plot = 1000 \n",
    "\n",
    "# for ind in range(len(CATHODE_info)):\n",
    "for ind in [0]:\n",
    "    info_dict = CATHODE_info[ind]\n",
    "    \n",
    "    # First grab the true data for the signal region\n",
    "    bins = [int(b) for b in info_dict['bins'].split(',')]\n",
    "    # Here we only want the SR\n",
    "    bins = [bins[2], bins[3]]\n",
    "    doping = info_dict['doping']\n",
    "    feature_nms = feature_keys[info_dict['feature_type']]\n",
    "    \n",
    "    target_qcd, _ = mx_data(sm[feature_nms], bins)\n",
    "    ad_to_use = ad[:doping]\n",
    "    target_ad, _ = mx_data(ad_to_use[feature_nms], bins)\n",
    "    target_sample = torch.tensor(pd.concat((target_qcd, target_ad)).sample(frac=1).to_numpy())\n",
    "    \n",
    "    samples = np.load(os.path.join(CATHODE_directories[ind], 'SB2_to_SR_samples.npy'))\n",
    "    samples = torch.tensor(samples, dtype=torch.float32)\n",
    "    \n",
    "    # Apply the data preprocessing to have it plotted on an easy to view range\n",
    "    ts, info, _ = preprocess_method(target_sample)\n",
    "    ss, _, _ = preprocess_method(samples, info) \n",
    "\n",
    "    # Set the tags for saving\n",
    "    nm = 'SB2_to_SR'\n",
    "    tag = f\"CATHODE_{doping}_{info_dict['feature_type']}\"\n",
    "    x_bounds= [-1.2, 1.2]\n",
    "\n",
    "    plot_utils.getFeaturePlot(ts, ss, nm, save_directory, tag, feature_nms[:-1], input_sample=None,\n",
    "                              n_sample_for_plot=n_sample_for_plot, x_bounds= x_bounds)"
   ]
  },
  {
   "cell_type": "code",
   "execution_count": null,
   "metadata": {},
   "outputs": [],
   "source": []
  }
 ],
 "metadata": {
  "kernelspec": {
   "display_name": "Python 3 (ipykernel)",
   "language": "python",
   "name": "python3"
  },
  "language_info": {
   "codemirror_mode": {
    "name": "ipython",
    "version": 3
   },
   "file_extension": ".py",
   "mimetype": "text/x-python",
   "name": "python",
   "nbconvert_exporter": "python",
   "pygments_lexer": "ipython3",
   "version": "3.8.8"
  }
 },
 "nbformat": 4,
 "nbformat_minor": 1
}