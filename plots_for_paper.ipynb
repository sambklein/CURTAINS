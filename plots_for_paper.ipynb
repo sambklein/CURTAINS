{
 "cells": [
  {
   "cell_type": "code",
   "execution_count": 56,
   "metadata": {},
   "outputs": [],
   "source": [
    "import glob\n",
    "import os\n",
    "import json\n",
    "import numpy as np\n",
    "import torch\n",
    "import pandas as pd\n",
    "\n",
    "import utils.plotting as plot_utils\n",
    "\n",
    "from operator import itemgetter\n",
    "from copy import deepcopy\n",
    "import matplotlib.pyplot as plt"
   ]
  },
  {
   "cell_type": "code",
   "execution_count": 2,
   "metadata": {},
   "outputs": [],
   "source": [
    "# Set directories for loading data and saving plots\n",
    "from data.data_loaders import load_curtains_pd\n",
    "from data.physics_datasets import preprocess_method\n",
    "data_directory = '/srv/beegfs/scratch/groups/dpnc/atlas/CURTAINS/'\n",
    "# save_directory = '/srv/beegfs/scratch/groups/dpnc/atlas/CURTAINS/images'\n",
    "save_directory = '/home/users/k/kleins/MLproject/CURTAINS/images/test_images_paper/'\n",
    "os.makedirs(save_directory, exist_ok=True)\n",
    "\n",
    "\n",
    "def get_files(directory_wildcard):\n",
    "    \"\"\"\n",
    "    Returns a list of directories under which data can be loaded and a list of dictionaries for each directory in each\n",
    "    file.\n",
    "    \"\"\"\n",
    "    directories = glob.glob(os.path.join(data_directory, f'{directory_wildcard}*'))\n",
    "    info = [glob.glob(os.path.join(dd, '*.json'))[0] for dd in directories]\n",
    "    loaded_info = []\n",
    "    for exp_info in info:\n",
    "        with open(exp_info, \"r\") as file_name:\n",
    "            json_dict = json.load(file_name)\n",
    "        loaded_info += [json.loads(json_dict)]\n",
    "    return directories, loaded_info"
   ]
  },
  {
   "cell_type": "code",
   "execution_count": 3,
   "metadata": {
    "pycharm": {
     "name": "#%%\n"
    }
   },
   "outputs": [],
   "source": [
    "CATHODE_directories, CATHODE_info = get_files('fixed_widths_cathode_features_CATHODE_features_')\n",
    "CURTAINS_directories, CURTAINS_info = get_files('fixed_widths_cathode_features_CATHODE_features_')"
   ]
  },
  {
   "cell_type": "code",
   "execution_count": 27,
   "metadata": {
    "pycharm": {
     "name": "#%%\n"
    }
   },
   "outputs": [],
   "source": [
    "%%capture\n",
    "# Load the data and dope appropriately, load feature type 12 as that encompasses all the others\n",
    "feature_type = 16\n",
    "sm = load_curtains_pd(feature_type=feature_type)\n",
    "sm = sm.sample(frac=1).dropna() \n",
    "ad = load_curtains_pd(sm='WZ_allhad_pT', feature_type=feature_type)\n",
    "ad = ad.sample(frac=1).dropna()"
   ]
  },
  {
   "cell_type": "code",
   "execution_count": null,
   "metadata": {},
   "outputs": [],
   "source": [
    "# This dictionary can be used to access the corresponding figures\n",
    "feature_keys = {3: ['mj1', 'mj2-mj1', '$\\\\tau_{21}^{j_1}$', '$\\\\tau_{21}^{j_2}$', '$dR_{jj}$', 'mjj'],\n",
    "                10: ['mj1', 'mj2-mj1', '$\\\\tau_{21}^{j_1}$', '$\\\\tau_{21}^{j_2}$', '$dR_{jj}$', '$p_t^{j_1}$', \n",
    "                     '$p_t^{j_2}$', 'mjj'],\n",
    "                11:['mj1', 'mj2-mj1', '$\\\\tau_{21}^{j_1}$', '$\\\\tau_{21}^{j_2}$', '$dR_{jj}$', \n",
    "                    '$p_t^{j_1}$', '$p_t^{j_2}$', 'delEta', 'mjj'], \n",
    "                12: ['mj1', 'mj2', 'mj2-mj1', '$\\\\tau_{21}^{j_1}$', '$\\\\tau_{32}^{j_1}$', '$\\\\tau_{21}^{j_2}$', \n",
    "                     '$\\\\tau_{32}^{j_2}$', '$p_t^{j_1}$', '$p_t^{j_2}$', '$dR_{jj}$', 'delPhi', 'delEta', 'mjj']}\n",
    "\n",
    "# Assign the current headers to the correct latex version\n",
    "proper_keys = {'mjj': r'$m_{JJ}$',\n",
    "               'mj1': r'$m_{J_1}$',\n",
    "               'mj2': r'$m_{J_2}$',\n",
    "               'mj2-mj1': r'$\\Delta m_J$', \n",
    "               '$\\\\tau_{21}^{j_1}$': r'$\\tau_{21}^{J_1}$', \n",
    "               '$\\\\tau_{21}^{j_2}$': r'$\\tau_{21}^{J_2}$', \n",
    "               '$dR_{jj}$': r'$\\Delta R_{JJ}$',\n",
    "               '$\\\\tau_{32}^{j_1}$': r'$\\tau_{32}^{J_1}$',\n",
    "               '$\\\\tau_{32}^{j_2}$': r'$\\tau_{32}^{J_2}$',\n",
    "               '$p_t^{j_1}$': r'$p_\\mathrm{T}^{J_1}$',\n",
    "               '$p_t^{j_2}$': r'$p_\\mathrm{T}^{J_2}$',\n",
    "               'delPhi': r'$\\Delta \\phi $',\n",
    "               'delEta': r'$\\Delta \\eta$',\n",
    "              }"
   ]
  },
  {
   "cell_type": "code",
   "execution_count": 60,
   "metadata": {},
   "outputs": [],
   "source": [
    "from utils.plotting import get_bins, add_hist, add_error_hist, add_contour, add_off_diagonal, get_weights\n",
    "from utils.torch_utils import shuffle_tensor, tensor2numpy\n",
    "\n",
    "\n",
    "def getFeaturePlot(original, sampled, nm, savedir, region, feature_names, input_sample=None, nbins=20, contour=True,\n",
    "                   n_sample_for_plot=-1, summary_writer=None, x_bounds=None, show=False, include_mass=True):\n",
    "    if x_bounds is None:\n",
    "        x_bounds = [-1.2, 1.2]\n",
    "    if n_sample_for_plot > 0:\n",
    "        original = shuffle_tensor(original)\n",
    "        sampled = shuffle_tensor(sampled)\n",
    "\n",
    "    nfeatures = len(feature_names)\n",
    "    if not include_mass:\n",
    "        nfeatures -= 1\n",
    "    fig, axes = plt.subplots(nfeatures, nfeatures, figsize=(2 * nfeatures + 2, 2 * nfeatures + 1),\n",
    "                             gridspec_kw={'wspace': 0.03, 'hspace': 0.03})\n",
    "    for i in range(nfeatures):\n",
    "        if (i != 0) or (not contour):\n",
    "            axes[i, 0].set_ylabel(feature_names[i])\n",
    "        else:\n",
    "            axes[0, 0].set_ylabel('Normalised Entries', horizontalalignment='right', y=1.0)\n",
    "        for j in range(nfeatures):\n",
    "            if not contour:\n",
    "                axes[0, j].set_title(feature_names[j])\n",
    "            else:\n",
    "                axes[-1, j].set_xlabel(feature_names[j])\n",
    "                if i != nfeatures - 1:\n",
    "                    axes[i, j].tick_params(axis='x', which='both', direction='in', labelbottom=False)\n",
    "\n",
    "                axes[i, j].set_yticks([-1, 0, 1])\n",
    "                if i == j == 0:\n",
    "                    axes[i, j].tick_params(axis='y', colors='w')\n",
    "                elif j > 0:\n",
    "                    axes[i, j].tick_params(axis='y', which='both', direction='in', labelleft=False)\n",
    "\n",
    "            if i == j:\n",
    "                og = original[:, i]\n",
    "                bin = get_bins(og[(og > x_bounds[0]) & (og < x_bounds[1])], nbins=nbins)\n",
    "                add_hist(axes[i, j], tensor2numpy(original[:, i]), bin, 'red', 'Original')\n",
    "                add_hist(axes[i, j], tensor2numpy(sampled[:, i]), bin, 'blue', 'Transformed')\n",
    "                add_error_hist(axes[i, j], tensor2numpy(original[:, i]), bins=bin, color='red')\n",
    "                add_error_hist(axes[i, j], tensor2numpy(sampled[:, i]), bins=bin, color='blue')\n",
    "                if input_sample is not None:\n",
    "                    data = tensor2numpy(input_sample[:, i])\n",
    "                    axes[i, j].hist(data, density=False, bins=bin, histtype='step',\n",
    "                                    color='black', linestyle='dashed', label='Input Sample', weights=get_weights(data))\n",
    "                axes[i, j].set_xlim(x_bounds)\n",
    "\n",
    "            if contour:\n",
    "                if i > j:\n",
    "                    add_contour(axes, i, j, original[:n_sample_for_plot], sampled[:n_sample_for_plot],\n",
    "                                x_bounds=x_bounds)\n",
    "                elif i < j:\n",
    "                    axes[i, j].set_visible(False)\n",
    "            else:\n",
    "                if i < j:\n",
    "                    add_off_diagonal(axes, i, j, original, 'Reds')\n",
    "\n",
    "                if i > j:\n",
    "                    add_off_diagonal(axes, i, j, sampled, 'Blues')\n",
    "\n",
    "    fig.suptitle(region)\n",
    "    handles, labels = axes[0, 0].get_legend_handles_labels()\n",
    "    fig.legend(handles, labels, loc='upper left', bbox_to_anchor=(0.32, 0.89), frameon=False)\n",
    "    if summary_writer is not None:\n",
    "        summary_writer.add_figure(tag=f'featurespread_{region}', figure=fig)\n",
    "    fig.savefig(savedir + '/featurespread_{}_{}_{}.png'.format(region, nm, 'transformed_data'), bbox_inches=\"tight\")\n",
    "    if show:\n",
    "        return fig\n",
    "    else:\n",
    "        fig.clf()"
   ]
  },
  {
   "cell_type": "code",
   "execution_count": 61,
   "metadata": {
    "pycharm": {
     "is_executing": true
    }
   },
   "outputs": [
    {
     "data": {
      "text/plain": [
       "<Figure size 1296x1224 with 0 Axes>"
      ]
     },
     "metadata": {},
     "output_type": "display_data"
    },
    {
     "data": {
      "text/plain": [
       "<Figure size 2016x1944 with 0 Axes>"
      ]
     },
     "metadata": {},
     "output_type": "display_data"
    },
    {
     "data": {
      "text/plain": [
       "<Figure size 864x792 with 0 Axes>"
      ]
     },
     "metadata": {},
     "output_type": "display_data"
    },
    {
     "data": {
      "text/plain": [
       "<Figure size 1440x1368 with 0 Axes>"
      ]
     },
     "metadata": {},
     "output_type": "display_data"
    },
    {
     "data": {
      "text/plain": [
       "<Figure size 1296x1224 with 0 Axes>"
      ]
     },
     "metadata": {},
     "output_type": "display_data"
    },
    {
     "data": {
      "text/plain": [
       "<Figure size 1440x1368 with 0 Axes>"
      ]
     },
     "metadata": {},
     "output_type": "display_data"
    },
    {
     "data": {
      "text/plain": [
       "<Figure size 2016x1944 with 0 Axes>"
      ]
     },
     "metadata": {},
     "output_type": "display_data"
    },
    {
     "data": {
      "text/plain": [
       "<Figure size 864x792 with 0 Axes>"
      ]
     },
     "metadata": {},
     "output_type": "display_data"
    },
    {
     "data": {
      "text/plain": [
       "<Figure size 1296x1224 with 0 Axes>"
      ]
     },
     "metadata": {},
     "output_type": "display_data"
    },
    {
     "data": {
      "text/plain": [
       "<Figure size 2016x1944 with 0 Axes>"
      ]
     },
     "metadata": {},
     "output_type": "display_data"
    },
    {
     "data": {
      "text/plain": [
       "<Figure size 864x792 with 0 Axes>"
      ]
     },
     "metadata": {},
     "output_type": "display_data"
    },
    {
     "data": {
      "text/plain": [
       "<Figure size 1440x1368 with 0 Axes>"
      ]
     },
     "metadata": {},
     "output_type": "display_data"
    },
    {
     "data": {
      "text/plain": [
       "<Figure size 1296x1224 with 0 Axes>"
      ]
     },
     "metadata": {},
     "output_type": "display_data"
    },
    {
     "data": {
      "text/plain": [
       "<Figure size 1440x1368 with 0 Axes>"
      ]
     },
     "metadata": {},
     "output_type": "display_data"
    },
    {
     "data": {
      "text/plain": [
       "<Figure size 2016x1944 with 0 Axes>"
      ]
     },
     "metadata": {},
     "output_type": "display_data"
    },
    {
     "data": {
      "text/plain": [
       "<Figure size 864x792 with 0 Axes>"
      ]
     },
     "metadata": {},
     "output_type": "display_data"
    }
   ],
   "source": [
    "# Bin the data\n",
    "def mx_data(data, bins, features):\n",
    "    context_df = data['mjj']\n",
    "    mx = (context_df >= bins[0]) & (context_df < bins[1])\n",
    "    if 'mjj' != features[-1]:\n",
    "        features = deepcopy(features) + ['mjj']\n",
    "    return data[features].loc[mx], data.loc[~mx]\n",
    "\n",
    "# Plot a feature spread\n",
    "n_sample_for_plot = 1000\n",
    "\n",
    "to_plot = {'Cathode': [CATHODE_directories, CATHODE_info],\n",
    "          'Curtains': [CURTAINS_directories, CURTAINS_info]}\n",
    "\n",
    "for nm in to_plot.keys():\n",
    "\n",
    "    directory, info  = to_plot[nm]\n",
    "    for ind in range(len(info)):\n",
    "    \n",
    "        info_dict = info[ind]\n",
    "\n",
    "        # First grab the true data for the signal region\n",
    "        bins = [int(b) for b in info_dict['bins'].split(',')]\n",
    "        # Here we only want the SR\n",
    "        bins = [bins[2], bins[3]]\n",
    "        doping = info_dict['doping']\n",
    "        feature_nms = feature_keys[info_dict['feature_type']]\n",
    "\n",
    "        target_qcd, _ = mx_data(sm, bins, feature_nms)\n",
    "        ad_to_use = ad[:doping] \n",
    "        target_ad, _ = mx_data(ad_to_use, bins, feature_nms)\n",
    "        target_sample = torch.tensor(pd.concat((target_qcd, target_ad)).sample(frac=1).to_numpy(), dtype=torch.float32)\n",
    "\n",
    "        samples = np.load(os.path.join(directory[ind], 'SB2_to_SR_samples.npy'))\n",
    "        samples = torch.tensor(samples, dtype=torch.float32)\n",
    "\n",
    "        # Apply the data preprocessing to have it plotted on an easy to view range\n",
    "        ts, facts, _ = preprocess_method(target_sample)\n",
    "        ss, _, _ = preprocess_method(samples, facts)\n",
    "\n",
    "        # Set the tags for saving\n",
    "        plt_nm = f'SB2_to_SR_{nm}'\n",
    "        tag = f\"{plt_nm}_{doping}_{info_dict['feature_type']}\"\n",
    "        x_bounds= [-1.2, 1.2]\n",
    "\n",
    "        fig = getFeaturePlot(ts, ss, nm, save_directory, tag, itemgetter(*feature_nms)(proper_keys), \n",
    "                                        input_sample=None, n_sample_for_plot=n_sample_for_plot, \n",
    "                                        x_bounds=x_bounds, show=False)"
   ]
  },
  {
   "cell_type": "code",
   "execution_count": null,
   "metadata": {},
   "outputs": [],
   "source": []
  }
 ],
 "metadata": {
  "kernelspec": {
   "display_name": "Python 3 (ipykernel)",
   "language": "python",
   "name": "python3"
  },
  "language_info": {
   "codemirror_mode": {
    "name": "ipython",
    "version": 3
   },
   "file_extension": ".py",
   "mimetype": "text/x-python",
   "name": "python",
   "nbconvert_exporter": "python",
   "pygments_lexer": "ipython3",
   "version": "3.8.8"
  }
 },
 "nbformat": 4,
 "nbformat_minor": 1
}
