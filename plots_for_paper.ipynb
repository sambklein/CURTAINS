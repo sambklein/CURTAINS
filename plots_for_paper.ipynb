{
 "cells": [
  {
   "cell_type": "code",
   "execution_count": 26,
   "metadata": {},
   "outputs": [],
   "source": [
    "import glob\n",
    "import os\n",
    "import json\n",
    "import numpy as np\n",
    "import torch\n",
    "\n",
    "import utils.plotting as plot_utils"
   ]
  },
  {
   "cell_type": "code",
   "execution_count": null,
   "metadata": {
    "pycharm": {
     "is_executing": true
    }
   },
   "outputs": [],
   "source": [
    "# Set directories for loading data and saving plots\n",
    "from data.data_loaders import load_curtains_pd\n",
    "from data.physics_datasets import preprocess_method\n",
    "data_directory = '/srv/beegfs/scratch/groups/dpnc/atlas/CURTAINS/'\n",
    "# save_directory = '/srv/beegfs/scratch/groups/dpnc/atlas/CURTAINS/images'\n",
    "save_directory = '/home/users/k/kleins/MLproject/CURTAINS/images/test_images_paper/'\n",
    "os.makedirs(save_directory, exist_ok=True)\n",
    "\n",
    "\n",
    "def get_files(directory_wildcard):\n",
    "    \"\"\"\n",
    "    Returns a list of directories under which data can be loaded and a list of dictionaries for each directory in each\n",
    "    file.\n",
    "    \"\"\"\n",
    "    directories = glob.glob(os.path.join(data_directory, f'{directory_wildcard}*'))\n",
    "    info = [glob.glob(os.path.join(dd, '*.json'))[0] for dd in directories]\n",
    "    loaded_info = []\n",
    "    for exp_info in info:\n",
    "        with open(exp_info, \"r\") as file_name:\n",
    "            json_dict = json.load(file_name)\n",
    "        loaded_info += [json.loads(json_dict)]\n",
    "    return directories, loaded_info"
   ]
  },
  {
   "cell_type": "code",
   "execution_count": 24,
   "metadata": {
    "pycharm": {
     "name": "#%%\n"
    }
   },
   "outputs": [],
   "source": [
    "CATHODE_directories, CATHODE_info = get_files('fixed_widths_cathode_features_CATHODE_features_')\n",
    "CURTAINS_directories, CURTAINS_info = get_files('fixed_widths_cathode_features_CATHODE_features_')"
   ]
  },
  {
   "cell_type": "code",
   "execution_count": null,
   "outputs": [],
   "source": [
    "# Load the data and dope appropriately\n",
    "feature_type = 11\n",
    "sm = load_curtains_pd(feature_type=feature_type)\n",
    "sm = sm.sample(frac=1).dropna()\n",
    "ad = load_curtains_pd(sm='WZ_allhad_pT', feature_type=feature_type)\n",
    "ad = ad.sample(frac=1).dropna()"
   ],
   "metadata": {
    "collapsed": false,
    "pycharm": {
     "name": "#%%\n"
    }
   }
  },
  {
   "cell_type": "code",
   "execution_count": 29,
   "metadata": {},
   "outputs": [
    {
     "data": {
      "text/plain": "<Figure size 1152x1080 with 0 Axes>"
     },
     "metadata": {},
     "output_type": "display_data"
    },
    {
     "data": {
      "text/plain": "<Figure size 1872x1800 with 0 Axes>"
     },
     "metadata": {},
     "output_type": "display_data"
    },
    {
     "data": {
      "text/plain": "<Figure size 864x792 with 0 Axes>"
     },
     "metadata": {},
     "output_type": "display_data"
    },
    {
     "data": {
      "text/plain": "<Figure size 1296x1224 with 0 Axes>"
     },
     "metadata": {},
     "output_type": "display_data"
    },
    {
     "data": {
      "text/plain": "<Figure size 1152x1080 with 0 Axes>"
     },
     "metadata": {},
     "output_type": "display_data"
    },
    {
     "data": {
      "text/plain": "<Figure size 1296x1224 with 0 Axes>"
     },
     "metadata": {},
     "output_type": "display_data"
    },
    {
     "data": {
      "text/plain": "<Figure size 1872x1800 with 0 Axes>"
     },
     "metadata": {},
     "output_type": "display_data"
    },
    {
     "data": {
      "text/plain": "<Figure size 864x792 with 0 Axes>"
     },
     "metadata": {},
     "output_type": "display_data"
    }
   ],
   "source": [
    "# Plot a feature spread\n",
    "n_sample_for_plot = 1000\n",
    "\n",
    "for ind in range(len(CATHODE_info)):\n",
    "    info_dict = CATHODE_info[ind]\n",
    "    samples = np.load(os.path.join(CATHODE_directories[ind], 'SB2_to_SR_samples.npy'))\n",
    "    samples = torch.tensor(samples, dtype=torch.float32)\n",
    "\n",
    "    # TODO: load the data and put this first....\n",
    "    target_sample = samples\n",
    "    ts, info, _ = preprocess_method(target_sample)\n",
    "    ss, _, _ = preprocess_method(samples, info)\n",
    "\n",
    "    # TODO ge the feature names from the data...\n",
    "    feature_nms = ['a'] * samples.shape[1]\n",
    "    nm = 'SB2_to_SR'\n",
    "    tag = f\"CATHODE_{info_dict['doping']}_{info_dict['feature_type']}\"\n",
    "    x_bounds= [-1.2, 1.2]\n",
    "\n",
    "    plot_utils.getFeaturePlot(ts, ss, nm, save_directory, tag, feature_nms, input_sample=None,\n",
    "                              n_sample_for_plot=n_sample_for_plot, x_bounds= x_bounds)\n"
   ]
  },
  {
   "cell_type": "code",
   "execution_count": 16,
   "outputs": [
    {
     "data": {
      "text/plain": "{'dataset': 'curtains',\n 'resonant_feature': 'mass',\n 'quantiles': [1, 2, 3, 4],\n 'bins': '2700,3000,3300,3700,4000,4300',\n 'doping': 0,\n 'feature_type': 10,\n 'n': 'CATHODE_features_1',\n 'd': 'fixed_widths_cathode_features_CATHODE_features_1',\n 'load': 0,\n 'model_name': None,\n 'load_classifiers': 0,\n 'use_mass_sampler': 1,\n 'log_dir': 'scanning_bins',\n 'coupling': 1,\n 'spline': 1,\n 'base_dist': 'normal',\n 'shuffle': 1,\n 'coupling_width': 32,\n 'coupling_depth': 2,\n 'batch_size': 256,\n 'epochs': 1000,\n 'nstack': 8,\n 'nblocks': 3,\n 'nodes': 20,\n 'activ': 'leaky_relu',\n 'lr': 0.0001,\n 'reduce_lr_plat': 0,\n 'gclip': 5,\n 'nbins': 4,\n 'load_best': 0,\n 'det_beta': 0.0,\n 'sample_m_train': 0,\n 'oversample': 4,\n 'beta_add_noise': 0.0,\n 'classifier_epochs': 20,\n 'distance': 'sinkhorn_slow',\n 'ncond': 1,\n 'two_way': 1,\n 'mix_sb': 2,\n 'n_sample': 1000,\n 'light': 3,\n 'plot': 1,\n 'seed': 1638128}"
     },
     "execution_count": 16,
     "metadata": {},
     "output_type": "execute_result"
    }
   ],
   "source": [
    "CATHODE_info[0]"
   ],
   "metadata": {
    "collapsed": false,
    "pycharm": {
     "name": "#%%\n"
    }
   }
  },
  {
   "cell_type": "code",
   "execution_count": null,
   "outputs": [],
   "source": [],
   "metadata": {
    "collapsed": false,
    "pycharm": {
     "name": "#%%\n"
    }
   }
  }
 ],
 "metadata": {
  "kernelspec": {
   "display_name": "Python 3 (ipykernel)",
   "language": "python",
   "name": "python3"
  },
  "language_info": {
   "codemirror_mode": {
    "name": "ipython",
    "version": 3
   },
   "file_extension": ".py",
   "mimetype": "text/x-python",
   "name": "python",
   "nbconvert_exporter": "python",
   "pygments_lexer": "ipython3",
   "version": "3.8.8"
  }
 },
 "nbformat": 4,
 "nbformat_minor": 1
}