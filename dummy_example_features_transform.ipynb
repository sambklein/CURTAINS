{
 "cells": [
  {
   "cell_type": "code",
   "execution_count": 1,
   "id": "sound-browse",
   "metadata": {},
   "outputs": [],
   "source": [
    "import matplotlib.pyplot as plt\n",
    "import numpy as np\n",
    "import seaborn as sns"
   ]
  },
  {
   "cell_type": "code",
   "execution_count": 66,
   "id": "radio-registration",
   "metadata": {},
   "outputs": [],
   "source": [
    "n_sample = int(1e4)\n",
    "sf = 1.5\n",
    "masses = np.random.uniform(size=n_sample) * sf\n",
    "x = np.random.normal(loc=(masses + 1) ** 2, scale=1 + masses)\n",
    "x = np.random.poisson(size=n_sample) + masses\n",
    "x = np.random.poisson(lam=masses) + masses"
   ]
  },
  {
   "cell_type": "code",
   "execution_count": 67,
   "id": "solved-peripheral",
   "metadata": {},
   "outputs": [],
   "source": [
    "# print(help(np.random.poisson))"
   ]
  },
  {
   "cell_type": "code",
   "execution_count": 68,
   "id": "macro-decision",
   "metadata": {},
   "outputs": [
    {
     "data": {
      "text/plain": [
       "(array([3525., 2183., 1803., 1135.,  795.,  392.,   63.,   55.,   38.,\n",
       "          11.]),\n",
       " array([4.58888766e-06, 7.49652224e-01, 1.49929986e+00, 2.24894749e+00,\n",
       "        2.99859513e+00, 3.74824276e+00, 4.49789040e+00, 5.24753803e+00,\n",
       "        5.99718567e+00, 6.74683331e+00, 7.49648094e+00]),\n",
       " <BarContainer object of 10 artists>)"
      ]
     },
     "execution_count": 68,
     "metadata": {},
     "output_type": "execute_result"
    },
    {
     "data": {
      "image/png": "[encoded data removed]",
      "text/plain": [
       "<Figure size 432x288 with 1 Axes>"
      ]
     },
     "metadata": {
      "needs_background": "light"
     },
     "output_type": "display_data"
    }
   ],
   "source": [
    "plt.hist(x)"
   ]
  },
  {
   "cell_type": "code",
   "execution_count": 69,
   "id": "immune-transportation",
   "metadata": {},
   "outputs": [],
   "source": [
    "masses /= sf\n",
    "masses = masses * 1300 + 2900"
   ]
  },
  {
   "cell_type": "code",
   "execution_count": 70,
   "id": "sophisticated-crossing",
   "metadata": {},
   "outputs": [],
   "source": [
    "sidebands = {\n",
    "    'SB1': [3200, 3400],\n",
    "    'SR': [3400, 3600],\n",
    "    'SB2': [3600, 3800]\n",
    "}\n",
    "\n",
    "def mx_data(mass, x, sideband):\n",
    "    sb = sidebands[sideband]\n",
    "    mx = (mass >= sb[0]) & (mass <= sb[1])\n",
    "    return mass[mx], x[mx]"
   ]
  },
  {
   "cell_type": "code",
   "execution_count": 71,
   "id": "continuing-beijing",
   "metadata": {},
   "outputs": [],
   "source": [
    "# for band in sidebands:\n",
    "#     plt.hist2d(*mx_data(masses, x, band), bins = 100)\n",
    "#     plt.ylim([-1.5, 9])\n",
    "#     plt.xlabel('Mass')\n",
    "#     plt.ylabel('x')\n",
    "#     plt.savefig(f'images/{band}.png')\n",
    "#     plt.show()"
   ]
  },
  {
   "cell_type": "code",
   "execution_count": 72,
   "id": "duplicate-stopping",
   "metadata": {},
   "outputs": [],
   "source": [
    "def mx_data(mass, x, sideband):\n",
    "    sb = sidebands[sideband]\n",
    "    mx = (mass >= sb[0] - 300) & (mass <= sb[1] + 300)\n",
    "    return mass[mx], x[mx]"
   ]
  },
  {
   "cell_type": "code",
   "execution_count": 73,
   "id": "expensive-child",
   "metadata": {},
   "outputs": [
    {
     "name": "stderr",
     "output_type": "stream",
     "text": [
      "<ipython-input-73-d97f9b5c1e0a>:28: UserWarning: Matplotlib is currently using module://ipykernel.pylab.backend_inline, which is a non-GUI backend, so cannot show the figure.\n",
      "  fig.show()\n",
      "<ipython-input-73-d97f9b5c1e0a>:28: UserWarning: Matplotlib is currently using module://ipykernel.pylab.backend_inline, which is a non-GUI backend, so cannot show the figure.\n",
      "  fig.show()\n",
      "<ipython-input-73-d97f9b5c1e0a>:28: UserWarning: Matplotlib is currently using module://ipykernel.pylab.backend_inline, which is a non-GUI backend, so cannot show the figure.\n",
      "  fig.show()\n"
     ]
    },
    {
     "data": {
      "image/png": "[encoded data removed]",
      "text/plain": [
       "<Figure size 432x288 with 1 Axes>"
      ]
     },
     "metadata": {
      "needs_background": "light"
     },
     "output_type": "display_data"
    },
    {
     "data": {
      "image/png": "[encoded data removed]",
      "text/plain": [
       "<Figure size 432x288 with 1 Axes>"
      ]
     },
     "metadata": {
      "needs_background": "light"
     },
     "output_type": "display_data"
    },
    {
     "data": {
      "image/png": "[encoded data removed]",
      "text/plain": [
       "<Figure size 432x288 with 1 Axes>"
      ]
     },
     "metadata": {
      "needs_background": "light"
     },
     "output_type": "display_data"
    }
   ],
   "source": [
    "# for band in sidebands:\n",
    "#     fig, ax = plt.subplots()\n",
    "#     m, t = mx_data(masses, x, band)\n",
    "# #     sns.kdeplot(m, y=t, levels = 4, alpha=0.4, fill=True, gridsize=50, bw_adjust=4)\n",
    "#     sns.kdeplot(masses, y=x, levels = 4, alpha=0.4, fill=True, gridsize=50, bw_adjust=4)\n",
    "#     ax.set_ylim([-2.5, 10])\n",
    "#     ax.set_yticklabels([])\n",
    "#     ax.set_xticklabels([])\n",
    "#     ax.set_yticks([-2.5, 3.75, 10])\n",
    "# #     ax.set_xticklabels([3200, 3300, 3400, 3500, 3600, 3700, 3800])\n",
    "#     ax.set_xlim(sidebands[band])\n",
    "#     ax.set_xticks(sidebands[band] + [int(np.mean(sidebands[band]))])\n",
    "#     ax.tick_params('both', length=8, width=1, which='major')\n",
    "#     if band == 'SB2':\n",
    "#         ax.yaxis.tick_right()\n",
    "#     plt.savefig(f'images/{band}.png')\n",
    "#     fig.show()\n",
    "\n",
    "for band in sidebands:\n",
    "    fig, ax = plt.subplots()\n",
    "    m, t = mx_data(masses, x, band)\n",
    "#     sns.kdeplot(m, y=t, levels = 4, alpha=0.4, fill=True, gridsize=50, bw_adjust=4)\n",
    "    sns.kdeplot(masses, y=x, levels = 4, alpha=0.4, fill=True, gridsize=50, bw_adjust=4)\n",
    "    ax.tick_params('both', length=8, width=1, which='major')\n",
    "    if band == 'SB2':\n",
    "        ax.yaxis.tick_right()\n",
    "    plt.savefig(f'images/{band}.png')\n",
    "    fig.show()"
   ]
  },
  {
   "cell_type": "code",
   "execution_count": null,
   "id": "improving-sacramento",
   "metadata": {},
   "outputs": [],
   "source": []
  },
  {
   "cell_type": "code",
   "execution_count": null,
   "id": "crazy-processor",
   "metadata": {},
   "outputs": [],
   "source": []
  },
  {
   "cell_type": "code",
   "execution_count": null,
   "id": "frequent-kitchen",
   "metadata": {},
   "outputs": [],
   "source": []
  }
 ],
 "metadata": {
  "kernelspec": {
   "display_name": "Python 3",
   "language": "python",
   "name": "python3"
  },
  "language_info": {
   "codemirror_mode": {
    "name": "ipython",
    "version": 3
   },
   "file_extension": ".py",
   "mimetype": "text/x-python",
   "name": "python",
   "nbconvert_exporter": "python",
   "pygments_lexer": "ipython3",
   "version": "3.9.6"
  }
 },
 "nbformat": 4,
 "nbformat_minor": 5
}
